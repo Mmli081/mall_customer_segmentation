{
 "cells": [
  {
   "cell_type": "markdown",
   "id": "d333515a",
   "metadata": {},
   "source": [
    "<h1 align=center style=\"line-height:200%;font-family:vazir;color:#0099cc\">\n",
    "<font face=\"vazir\" color=\"#0099cc\">\n",
    "بخش‌بندی مشتریان مرکز خرید\n",
    "   \n",
    "</font>\n",
    "</h1>"
   ]
  },
  {
   "cell_type": "markdown",
   "id": "6ed20bff",
   "metadata": {},
   "source": [
    "<h2 align=right style=\"line-height:200%;font-family:vazir;color:#0099cc\">\n",
    "<font face=\"vazir\" color=\"#0099cc\">\n",
    "مقدمه و صورت مسئله\n",
    "</font>\n",
    "</h2>\n",
    "\n",
    "<p dir=rtl style=\"direction: rtl; text-align: justify; line-height:200%; font-family:vazir; font-size:medium\">\n",
    "<font face=\"vazir\" size=3>\n",
    "    فرض کنید صاحب یک پاساژ تجاری چندین طبقه در دوبی هستید! وقتی مشتریان زیادی از سراسر دنیا برای خرید به پاساژ شما مراجعه می‌کنند، آیا به این فکر نخواهید کرد که \n",
    "مشتریان خود را بیشتر بشناسید تا خدمات بهتری به آنان عرضه و سود بیشتری کسب کنید ؟\n",
    "    <br>\n",
    "یکی از راه‌هایی که برای خدمات بهتر به مشتریان وجود دارد، آن است که با تحلیل رفتار و مشخصات آن‌ها، دسته‌هایی از مشتریان تشکیل دهید و تصمیم‌های منحصربه‌فردی برای هر دسته اتخاذ کنید. به عنوان مثال به دسته‌ای از مشتریان که از محصولات شما رضایت کمتری دارند، تخفیف‌های ویژه دهید و به نحوی روابط خود را با آنان مدیریت کنید که احتمال ریزش آنان کم شود و حتی به مشتریان وفادار و طلایی شما تبدیل شوند!\n",
    "    <br>\n",
    "    در این تمرین قصد داریم با تحلیل اطلاعات مشتریان یک مرکز خرید، آن‌ها را خوشه‌بندی کنیم.\n",
    "</font>\n",
    "</p>"
   ]
  },
  {
   "cell_type": "code",
   "execution_count": 2,
   "id": "99450f9e",
   "metadata": {},
   "outputs": [],
   "source": [
    "import numpy as np\n",
    "import pandas as pd \n",
    "from matplotlib import pyplot as plt"
   ]
  },
  {
   "cell_type": "code",
   "execution_count": 3,
   "id": "7dcb9e87",
   "metadata": {},
   "outputs": [
    {
     "data": {
      "text/html": [
       "<div>\n",
       "<style scoped>\n",
       "    .dataframe tbody tr th:only-of-type {\n",
       "        vertical-align: middle;\n",
       "    }\n",
       "\n",
       "    .dataframe tbody tr th {\n",
       "        vertical-align: top;\n",
       "    }\n",
       "\n",
       "    .dataframe thead th {\n",
       "        text-align: right;\n",
       "    }\n",
       "</style>\n",
       "<table border=\"1\" class=\"dataframe\">\n",
       "  <thead>\n",
       "    <tr style=\"text-align: right;\">\n",
       "      <th></th>\n",
       "      <th>CustomerID</th>\n",
       "      <th>Gender</th>\n",
       "      <th>Age</th>\n",
       "      <th>Annual Income (k$)</th>\n",
       "      <th>Spending Score (1-100)</th>\n",
       "    </tr>\n",
       "  </thead>\n",
       "  <tbody>\n",
       "    <tr>\n",
       "      <th>0</th>\n",
       "      <td>1</td>\n",
       "      <td>Male</td>\n",
       "      <td>19</td>\n",
       "      <td>15</td>\n",
       "      <td>39</td>\n",
       "    </tr>\n",
       "    <tr>\n",
       "      <th>1</th>\n",
       "      <td>2</td>\n",
       "      <td>Male</td>\n",
       "      <td>21</td>\n",
       "      <td>15</td>\n",
       "      <td>81</td>\n",
       "    </tr>\n",
       "    <tr>\n",
       "      <th>2</th>\n",
       "      <td>3</td>\n",
       "      <td>Female</td>\n",
       "      <td>20</td>\n",
       "      <td>16</td>\n",
       "      <td>6</td>\n",
       "    </tr>\n",
       "    <tr>\n",
       "      <th>3</th>\n",
       "      <td>4</td>\n",
       "      <td>Female</td>\n",
       "      <td>23</td>\n",
       "      <td>16</td>\n",
       "      <td>77</td>\n",
       "    </tr>\n",
       "    <tr>\n",
       "      <th>4</th>\n",
       "      <td>5</td>\n",
       "      <td>Female</td>\n",
       "      <td>31</td>\n",
       "      <td>17</td>\n",
       "      <td>40</td>\n",
       "    </tr>\n",
       "    <tr>\n",
       "      <th>...</th>\n",
       "      <td>...</td>\n",
       "      <td>...</td>\n",
       "      <td>...</td>\n",
       "      <td>...</td>\n",
       "      <td>...</td>\n",
       "    </tr>\n",
       "    <tr>\n",
       "      <th>195</th>\n",
       "      <td>196</td>\n",
       "      <td>Female</td>\n",
       "      <td>35</td>\n",
       "      <td>120</td>\n",
       "      <td>79</td>\n",
       "    </tr>\n",
       "    <tr>\n",
       "      <th>196</th>\n",
       "      <td>197</td>\n",
       "      <td>Female</td>\n",
       "      <td>45</td>\n",
       "      <td>126</td>\n",
       "      <td>28</td>\n",
       "    </tr>\n",
       "    <tr>\n",
       "      <th>197</th>\n",
       "      <td>198</td>\n",
       "      <td>Male</td>\n",
       "      <td>32</td>\n",
       "      <td>126</td>\n",
       "      <td>74</td>\n",
       "    </tr>\n",
       "    <tr>\n",
       "      <th>198</th>\n",
       "      <td>199</td>\n",
       "      <td>Male</td>\n",
       "      <td>32</td>\n",
       "      <td>137</td>\n",
       "      <td>18</td>\n",
       "    </tr>\n",
       "    <tr>\n",
       "      <th>199</th>\n",
       "      <td>200</td>\n",
       "      <td>Male</td>\n",
       "      <td>30</td>\n",
       "      <td>137</td>\n",
       "      <td>83</td>\n",
       "    </tr>\n",
       "  </tbody>\n",
       "</table>\n",
       "<p>200 rows × 5 columns</p>\n",
       "</div>"
      ],
      "text/plain": [
       "     CustomerID  Gender  Age  Annual Income (k$)  Spending Score (1-100)\n",
       "0             1    Male   19                  15                      39\n",
       "1             2    Male   21                  15                      81\n",
       "2             3  Female   20                  16                       6\n",
       "3             4  Female   23                  16                      77\n",
       "4             5  Female   31                  17                      40\n",
       "..          ...     ...  ...                 ...                     ...\n",
       "195         196  Female   35                 120                      79\n",
       "196         197  Female   45                 126                      28\n",
       "197         198    Male   32                 126                      74\n",
       "198         199    Male   32                 137                      18\n",
       "199         200    Male   30                 137                      83\n",
       "\n",
       "[200 rows x 5 columns]"
      ]
     },
     "execution_count": 3,
     "metadata": {},
     "output_type": "execute_result"
    }
   ],
   "source": [
    "df = pd.read_csv('../data/mall_customers.csv')\n",
    "df"
   ]
  },
  {
   "cell_type": "code",
   "execution_count": 17,
   "id": "8d2f95db",
   "metadata": {},
   "outputs": [],
   "source": [
    "\n",
    "import numpy as np\n",
    "from sklearn.preprocessing import StandardScaler\n",
    "\n",
    "class Preprocessor : \n",
    "    def __init__ (self, df):\n",
    "        self.df = df.copy()\n",
    "        \n",
    "    def handle_missing_values (self) :\n",
    "        self.df.fillna(0, inplace=True)\n",
    "\n",
    "    def select_features(self):\n",
    "        self.df = self.df.iloc[:,2:]\n",
    "\n",
    "    def standard_scaler(self):\n",
    "        s = StandardScaler()\n",
    "        self.df = s.fit_transform(self.df)\n",
    "      \n",
    "    def transform (self) : \n",
    "        self.handle_missing_values()\n",
    "        self.select_features()\n",
    "        self.standard_scaler()\n",
    "        return self.df"
   ]
  },
  {
   "cell_type": "code",
   "execution_count": 18,
   "id": "c76b0e56",
   "metadata": {},
   "outputs": [
    {
     "name": "stdout",
     "output_type": "stream",
     "text": [
      "Overwriting preprocessor.py\n"
     ]
    }
   ],
   "source": [
    "%%writefile preprocessor.py\n",
    "\n",
    "import numpy as np\n",
    "from sklearn.preprocessing import StandardScaler\n",
    "\n",
    "class Preprocessor : \n",
    "    def __init__ (self, df):\n",
    "        self.df = df.copy()\n",
    "        \n",
    "    def handle_missing_values (self) :\n",
    "        self.df.fillna(0, inplace=True)\n",
    "\n",
    "    def select_features(self):\n",
    "        self.df = self.df.iloc[:,2:]\n",
    "\n",
    "    def standard_scaler(self):\n",
    "        s = StandardScaler()\n",
    "        self.df = s.fit_transform(self.df)\n",
    "      \n",
    "    def transform (self) : \n",
    "        self.handle_missing_values()\n",
    "        self.select_features()\n",
    "        self.standard_scaler()\n",
    "        return self.df"
   ]
  },
  {
   "cell_type": "code",
   "execution_count": null,
   "id": "86b1e18c",
   "metadata": {},
   "outputs": [],
   "source": [
    "# modeling\n",
    "\n",
    "from sklearn.cluster import KMeans\n",
    "\n",
    "p = Preprocessor(df)\n",
    "X = p.transform()\n",
    "\n",
    "cost = []\n",
    "\n",
    "# for i in range(2, 15):\n",
    "#     km = KMeans(n_clusters=i, init=\"k-means++\", random_state=0)\n",
    "#     km.fit(X)\n",
    "#     cost.append(km.inertia_)\n",
    "\n",
    "plt.plot(range(2,15),cost)\n",
    "plt.show()"
   ]
  },
  {
   "cell_type": "code",
   "execution_count": 20,
   "id": "2843011f",
   "metadata": {},
   "outputs": [],
   "source": [
    "kmeans_cluster = KMeans(n_clusters= 6, init='k-means++', random_state=0)\n",
    "model = kmeans_cluster.fit(X)"
   ]
  },
  {
   "cell_type": "code",
   "execution_count": 21,
   "id": "cee1b883",
   "metadata": {},
   "outputs": [],
   "source": [
    "# evaluate model\n",
    "from sklearn.metrics import silhouette_score"
   ]
  },
  {
   "cell_type": "code",
   "execution_count": 22,
   "id": "3d4a0844",
   "metadata": {},
   "outputs": [],
   "source": [
    "# predict test samples\n",
    "submission = pd.DataFrame(model.labels_, columns=[\"segment\"])\n",
    "submission.to_csv(\"submission.csv\")"
   ]
  },
  {
   "cell_type": "code",
   "execution_count": 26,
   "id": "688f1855",
   "metadata": {},
   "outputs": [
    {
     "name": "stdout",
     "output_type": "stream",
     "text": [
      "72.61721973862026\n"
     ]
    }
   ],
   "source": [
    "from preprocessor import *\n",
    "from sklearn.metrics import silhouette_score\n",
    "import pandas as pd \n",
    "\n",
    "sil_score = silhouette_score(Preprocessor(pd.read_csv('../data/mall_customers.csv')).transform(),pd.read_csv('submission.csv').segment)\n",
    "print( 100 * (sil_score + 1 ) / 2 )"
   ]
  }
 ],
 "metadata": {
  "kernelspec": {
   "display_name": "Python 3.10.4 ('venv': venv)",
   "language": "python",
   "name": "python3"
  },
  "language_info": {
   "codemirror_mode": {
    "name": "ipython",
    "version": 3
   },
   "file_extension": ".py",
   "mimetype": "text/x-python",
   "name": "python",
   "nbconvert_exporter": "python",
   "pygments_lexer": "ipython3",
   "version": "3.10.4"
  },
  "vscode": {
   "interpreter": {
    "hash": "eec2ae80e695029c141c834b9a580f460356d2571eab7d757ffc28b26e8991e9"
   }
  }
 },
 "nbformat": 4,
 "nbformat_minor": 5
}
